{
 "cells": [
  {
   "cell_type": "markdown",
   "metadata": {},
   "source": [
    "## Loading Data"
   ]
  },
  {
   "cell_type": "code",
   "execution_count": 2,
   "metadata": {
    "scrolled": true
   },
   "outputs": [
    {
     "data": {
      "text/plain": [
       "(150, 5)"
      ]
     },
     "execution_count": 2,
     "metadata": {},
     "output_type": "execute_result"
    }
   ],
   "source": [
    "import seaborn as sns\n",
    "import numpy as np\n",
    "iris = sns.load_dataset('iris')\n",
    "iris.shape\n"
   ]
  },
  {
   "cell_type": "code",
   "execution_count": 99,
   "metadata": {},
   "outputs": [
    {
     "data": {
      "text/html": [
       "<div>\n",
       "<style scoped>\n",
       "    .dataframe tbody tr th:only-of-type {\n",
       "        vertical-align: middle;\n",
       "    }\n",
       "\n",
       "    .dataframe tbody tr th {\n",
       "        vertical-align: top;\n",
       "    }\n",
       "\n",
       "    .dataframe thead th {\n",
       "        text-align: right;\n",
       "    }\n",
       "</style>\n",
       "<table border=\"1\" class=\"dataframe\">\n",
       "  <thead>\n",
       "    <tr style=\"text-align: right;\">\n",
       "      <th></th>\n",
       "      <th>sepal_length</th>\n",
       "      <th>sepal_width</th>\n",
       "      <th>petal_length</th>\n",
       "      <th>petal_width</th>\n",
       "      <th>species</th>\n",
       "    </tr>\n",
       "  </thead>\n",
       "  <tbody>\n",
       "    <tr>\n",
       "      <td>0</td>\n",
       "      <td>5.1</td>\n",
       "      <td>3.5</td>\n",
       "      <td>1.4</td>\n",
       "      <td>0.2</td>\n",
       "      <td>setosa</td>\n",
       "    </tr>\n",
       "    <tr>\n",
       "      <td>1</td>\n",
       "      <td>4.9</td>\n",
       "      <td>3.0</td>\n",
       "      <td>1.4</td>\n",
       "      <td>0.2</td>\n",
       "      <td>setosa</td>\n",
       "    </tr>\n",
       "    <tr>\n",
       "      <td>2</td>\n",
       "      <td>4.7</td>\n",
       "      <td>3.2</td>\n",
       "      <td>1.3</td>\n",
       "      <td>0.2</td>\n",
       "      <td>setosa</td>\n",
       "    </tr>\n",
       "    <tr>\n",
       "      <td>3</td>\n",
       "      <td>4.6</td>\n",
       "      <td>3.1</td>\n",
       "      <td>1.5</td>\n",
       "      <td>0.2</td>\n",
       "      <td>setosa</td>\n",
       "    </tr>\n",
       "    <tr>\n",
       "      <td>4</td>\n",
       "      <td>5.0</td>\n",
       "      <td>3.6</td>\n",
       "      <td>1.4</td>\n",
       "      <td>0.2</td>\n",
       "      <td>setosa</td>\n",
       "    </tr>\n",
       "    <tr>\n",
       "      <td>...</td>\n",
       "      <td>...</td>\n",
       "      <td>...</td>\n",
       "      <td>...</td>\n",
       "      <td>...</td>\n",
       "      <td>...</td>\n",
       "    </tr>\n",
       "    <tr>\n",
       "      <td>95</td>\n",
       "      <td>5.7</td>\n",
       "      <td>3.0</td>\n",
       "      <td>4.2</td>\n",
       "      <td>1.2</td>\n",
       "      <td>versicolor</td>\n",
       "    </tr>\n",
       "    <tr>\n",
       "      <td>96</td>\n",
       "      <td>5.7</td>\n",
       "      <td>2.9</td>\n",
       "      <td>4.2</td>\n",
       "      <td>1.3</td>\n",
       "      <td>versicolor</td>\n",
       "    </tr>\n",
       "    <tr>\n",
       "      <td>97</td>\n",
       "      <td>6.2</td>\n",
       "      <td>2.9</td>\n",
       "      <td>4.3</td>\n",
       "      <td>1.3</td>\n",
       "      <td>versicolor</td>\n",
       "    </tr>\n",
       "    <tr>\n",
       "      <td>98</td>\n",
       "      <td>5.1</td>\n",
       "      <td>2.5</td>\n",
       "      <td>3.0</td>\n",
       "      <td>1.1</td>\n",
       "      <td>versicolor</td>\n",
       "    </tr>\n",
       "    <tr>\n",
       "      <td>99</td>\n",
       "      <td>5.7</td>\n",
       "      <td>2.8</td>\n",
       "      <td>4.1</td>\n",
       "      <td>1.3</td>\n",
       "      <td>versicolor</td>\n",
       "    </tr>\n",
       "  </tbody>\n",
       "</table>\n",
       "<p>100 rows × 5 columns</p>\n",
       "</div>"
      ],
      "text/plain": [
       "    sepal_length  sepal_width  petal_length  petal_width     species\n",
       "0            5.1          3.5           1.4          0.2      setosa\n",
       "1            4.9          3.0           1.4          0.2      setosa\n",
       "2            4.7          3.2           1.3          0.2      setosa\n",
       "3            4.6          3.1           1.5          0.2      setosa\n",
       "4            5.0          3.6           1.4          0.2      setosa\n",
       "..           ...          ...           ...          ...         ...\n",
       "95           5.7          3.0           4.2          1.2  versicolor\n",
       "96           5.7          2.9           4.2          1.3  versicolor\n",
       "97           6.2          2.9           4.3          1.3  versicolor\n",
       "98           5.1          2.5           3.0          1.1  versicolor\n",
       "99           5.7          2.8           4.1          1.3  versicolor\n",
       "\n",
       "[100 rows x 5 columns]"
      ]
     },
     "execution_count": 99,
     "metadata": {},
     "output_type": "execute_result"
    }
   ],
   "source": [
    "iris = iris[:100]\n",
    "iris"
   ]
  },
  {
   "cell_type": "code",
   "execution_count": 71,
   "metadata": {},
   "outputs": [],
   "source": [
    "Y = iris.species\n",
    "Y = Y[0:100]\n",
    "count = 0\n",
    "while count != len(Y):\n",
    "    if Y[count] == 'setosa':\n",
    "        Y[count] = 1\n",
    "    else:\n",
    "        Y[count] = -1\n",
    "    count += 1"
   ]
  },
  {
   "cell_type": "code",
   "execution_count": 72,
   "metadata": {},
   "outputs": [],
   "source": [
    "X = iris.drop('species', axis = 1)\n",
    "X = X[0:100]"
   ]
  },
  {
   "cell_type": "code",
   "execution_count": 73,
   "metadata": {},
   "outputs": [],
   "source": [
    "X2 = X.drop('petal_length', axis = 1)\n",
    "X2 = X2.drop('petal_width', axis = 1)"
   ]
  },
  {
   "cell_type": "code",
   "execution_count": 74,
   "metadata": {},
   "outputs": [],
   "source": [
    "X = X.to_numpy()\n",
    "Y = Y.to_numpy()\n",
    "X2 = X2.to_numpy()\n",
    "Y = Y.astype(np.double)"
   ]
  },
  {
   "cell_type": "code",
   "execution_count": 75,
   "metadata": {},
   "outputs": [],
   "source": [
    "from sklearn.model_selection import train_test_split\n",
    "X_train, X_test, Y_train, Y_test = train_test_split(X2, Y, test_size = 0.3, random_state = 44)"
   ]
  },
  {
   "cell_type": "markdown",
   "metadata": {},
   "source": [
    "### Thus, we take iris[0:100]\n",
    "### Now, we move to Primal SVM"
   ]
  },
  {
   "cell_type": "code",
   "execution_count": 76,
   "metadata": {},
   "outputs": [],
   "source": [
    "import cvxopt\n",
    "import matplotlib.pyplot as plt"
   ]
  },
  {
   "cell_type": "markdown",
   "metadata": {},
   "source": [
    "### cvxopt.solvers.qp(P, q, G, h, A, b)\n",
    "this is given by documentation. We will initialise these objects to further calculate"
   ]
  },
  {
   "cell_type": "code",
   "execution_count": 77,
   "metadata": {},
   "outputs": [],
   "source": [
    "def svm_function(X, Y):\n",
    "    \n",
    "    n = X.shape[0]\n",
    "    d = X.shape[1]\n",
    "\n",
    "    P = np.zeros((d + 1, d + 1))\n",
    "    P[1:, 1:] = np.eye(d)\n",
    "    P_cvxopt = cvxopt.matrix(P)\n",
    "    \n",
    "    q_temp = np.zeros(d + 1)\n",
    "    q = cvxopt.matrix(q_temp)\n",
    "    \n",
    "    new_y = np.reshape(Y, (-1, 1))\n",
    "    temp_matrix = -np.insert(X, 0, np.ones(n), axis = 1) * new_y\n",
    "    G_cvxopt = cvxopt.matrix(temp_matrix)\n",
    "    \n",
    "    h_temp = -np.ones(n)\n",
    "    h = cvxopt.matrix(h_temp)\n",
    "    \n",
    "    calculate = cvxopt.solvers.qp(P_cvxopt, q, G_cvxopt, h)\n",
    "    \n",
    "    return calculate"
   ]
  },
  {
   "cell_type": "code",
   "execution_count": 78,
   "metadata": {
    "scrolled": true
   },
   "outputs": [
    {
     "name": "stdout",
     "output_type": "stream",
     "text": [
      "     pcost       dcost       gap    pres   dres\n",
      " 0:  1.1477e+00  3.5176e+01  2e+02  2e+00  5e+01\n",
      " 1:  7.3095e+00 -1.9702e+01  8e+01  8e-01  2e+01\n",
      " 2:  1.9093e+01 -1.0546e+01  7e+01  4e-01  1e+01\n",
      " 3:  3.1620e+01  1.5828e+01  2e+01  1e-01  3e+00\n",
      " 4:  3.3561e+01  3.2481e+01  2e+00  7e-03  2e-01\n",
      " 5:  3.3793e+01  3.3781e+01  2e-02  7e-05  2e-03\n",
      " 6:  3.3795e+01  3.3795e+01  2e-04  7e-07  2e-05\n",
      " 7:  3.3795e+01  3.3795e+01  2e-06  7e-09  2e-07\n",
      " 8:  3.3795e+01  3.3795e+01  2e-08  7e-11  2e-09\n",
      "Optimal solution found.\n"
     ]
    }
   ],
   "source": [
    "solution = svm_function(X_train, Y_train)"
   ]
  },
  {
   "cell_type": "code",
   "execution_count": 79,
   "metadata": {},
   "outputs": [],
   "source": [
    "b_and_w = np.array(solution['x'])"
   ]
  },
  {
   "cell_type": "code",
   "execution_count": 80,
   "metadata": {},
   "outputs": [],
   "source": [
    "b = b_and_w[0][0]\n",
    "w = b_and_w[1:] "
   ]
  },
  {
   "cell_type": "code",
   "execution_count": 81,
   "metadata": {},
   "outputs": [
    {
     "data": {
      "text/plain": [
       "(2, 1)"
      ]
     },
     "execution_count": 81,
     "metadata": {},
     "output_type": "execute_result"
    }
   ],
   "source": [
    "w.shape"
   ]
  },
  {
   "cell_type": "code",
   "execution_count": 82,
   "metadata": {},
   "outputs": [
    {
     "data": {
      "text/plain": [
       "17.315789473215457"
      ]
     },
     "execution_count": 82,
     "metadata": {},
     "output_type": "execute_result"
    }
   ],
   "source": [
    "b"
   ]
  },
  {
   "cell_type": "code",
   "execution_count": 83,
   "metadata": {
    "scrolled": true
   },
   "outputs": [
    {
     "data": {
      "text/plain": [
       "array([[-6.31578947],\n",
       "       [ 5.26315789]])"
      ]
     },
     "execution_count": 83,
     "metadata": {},
     "output_type": "execute_result"
    }
   ],
   "source": [
    "w"
   ]
  },
  {
   "cell_type": "code",
   "execution_count": 85,
   "metadata": {},
   "outputs": [],
   "source": [
    "def plot_svm_graph(W, X, Y, b):\n",
    "    i = 0\n",
    "    while i != len(X):\n",
    "        if Y[i] > 0:\n",
    "            plt.scatter(X[i, 0], X[i,1], color = 'b')\n",
    "        else:\n",
    "            plt.scatter(X[i, 0], X[i,1], color = 'r')\n",
    "        i += 1\n",
    "    x_plot = np.arange(4.5, 6.5, 0.25)\n",
    "    y_predict = -(b + x_plot*W[0])/W[1]\n",
    "    distance = 1/np.linalg.norm(W)\n",
    "    upper_margin = y_predict + distance\n",
    "    lower_margin = y_predict - distance\n",
    "    \n",
    "    plt.plot(x_plot, y_predict)\n",
    "    plt.plot(x_plot, upper_margin)\n",
    "    plt.plot(x_plot, lower_margin)\n",
    "    plt.legend(('predicted', 'upper_margin', 'lower_margin'))\n",
    "    plt.show()\n"
   ]
  },
  {
   "cell_type": "code",
   "execution_count": 86,
   "metadata": {
    "scrolled": false
   },
   "outputs": [
    {
     "data": {
      "image/png": "[encoded data removed]",
      "text/plain": [
       "<Figure size 432x288 with 1 Axes>"
      ]
     },
     "metadata": {
      "needs_background": "light"
     },
     "output_type": "display_data"
    }
   ],
   "source": [
    "plot_svm_graph(w, X, Y, b)"
   ]
  },
  {
   "cell_type": "markdown",
   "metadata": {},
   "source": [
    "## We now implemented a prime SVM\n",
    "\n",
    "We now see that margins touch support-vector, which can show that our SVM was implemented correctly!\n",
    "\n",
    "\n",
    "\n",
    "## Dual SVM\n"
   ]
  },
  {
   "cell_type": "code",
   "execution_count": 100,
   "metadata": {},
   "outputs": [],
   "source": [
    "def dual_svm_function(X, Y):\n",
    "    \n",
    "    n = X.shape[0]\n",
    "    d = X.shape[1]\n",
    "    \n",
    "    new_y = Y.reshape(-1, 1)\n",
    "    X_star = new_y * X\n",
    "    \n",
    "    P = np.dot(X_star, X_star.T)\n",
    "    P_cvxopt = cvxopt.matrix(P)\n",
    "    \n",
    "    q = -np.ones(n)\n",
    "    q_cvxopt = cvxopt.matrix(q)\n",
    "    \n",
    "    G = -np.eye(n)\n",
    "    G_cvxopt = cvxopt.matrix(G)\n",
    "    \n",
    "    h = np.zeros(n)\n",
    "    h_cvxopt = cvxopt.matrix(h)\n",
    "    \n",
    "    new_new_y = new_y.reshape(1, -1)\n",
    "    A_cvxopt = cvxopt.matrix(new_new_y)\n",
    "    \n",
    "    b = np.zeros(1)\n",
    "    b_cvxopt = cvxopt.matrix(b)\n",
    "    \n",
    "    alpha = cvxopt.solvers.qp(P_cvxopt, q_cvxopt, G_cvxopt, h_cvxopt, A_cvxopt, b_cvxopt)\n",
    "    return alpha\n"
   ]
  },
  {
   "cell_type": "code",
   "execution_count": 101,
   "metadata": {
    "scrolled": true
   },
   "outputs": [
    {
     "name": "stdout",
     "output_type": "stream",
     "text": [
      "     pcost       dcost       gap    pres   dres\n",
      " 0: -1.3152e+01 -2.9334e+01  2e+02  1e+01  2e+00\n",
      " 1: -2.4030e+01 -3.1555e+01  8e+01  5e+00  8e-01\n",
      " 2: -4.5492e+01 -4.7648e+01  7e+01  3e+00  4e-01\n",
      " 3: -3.5515e+01 -3.9020e+01  2e+01  7e-01  1e-01\n",
      " 4: -3.3809e+01 -3.4043e+01  2e+00  5e-02  7e-03\n",
      " 5: -3.3795e+01 -3.3798e+01  2e-02  5e-04  7e-05\n",
      " 6: -3.3795e+01 -3.3795e+01  2e-04  5e-06  7e-07\n",
      " 7: -3.3795e+01 -3.3795e+01  2e-06  5e-08  7e-09\n",
      "Optimal solution found.\n"
     ]
    }
   ],
   "source": [
    "alpha = dual_svm_function(X_train, Y_train)"
   ]
  },
  {
   "cell_type": "code",
   "execution_count": 102,
   "metadata": {},
   "outputs": [],
   "source": [
    "alpha = np.array(alpha['x'])\n",
    "alpha = alpha.flatten()"
   ]
  },
  {
   "cell_type": "code",
   "execution_count": 103,
   "metadata": {
    "scrolled": true
   },
   "outputs": [
    {
     "name": "stdout",
     "output_type": "stream",
     "text": [
      "[-1.37241951e-09 -4.51206777e-10 -1.40261809e-09  1.22792530e-08\n",
      "  1.03388738e-09  1.52094251e-09  1.94801815e-08  1.24650800e-08\n",
      " -1.15166879e-09 -7.85326928e-10 -2.03928588e-09  6.22986671e-11\n",
      "  4.20643295e-09  2.61646877e-10 -1.02847517e-09  1.03388738e-09\n",
      " -1.58991900e-09  6.22986671e-11 -2.81419941e-10 -2.08059060e-09\n",
      " -6.86098112e-10 -1.54611472e-09 -2.10648297e-09  2.86549963e-09\n",
      "  3.05709526e-09 -3.57629990e-10  1.43886968e+01 -8.84547399e-10\n",
      "  1.84591200e-09  2.55649028e-10  3.05709526e-09  2.38525393e-09\n",
      " -1.42754825e-09 -7.62621092e-10 -4.80312991e-10  2.57177933e-09\n",
      " -1.08482888e-09  8.68615062e-10 -4.80312991e-10 -6.08074673e-10\n",
      " -2.10038047e-09 -1.12331850e-09 -1.96036756e-09  8.91472244e-10\n",
      " -3.57629990e-10 -2.04225921e-09  8.87170622e-10 -2.11322629e-09\n",
      " -1.17012245e-10  4.80231777e-07 -5.61160216e-10 -1.83313489e-09\n",
      "  1.94063160e+01 -1.51824396e-09  5.90669439e-09  9.38681203e+00\n",
      "  1.32827466e-09 -1.40261809e-09 -5.61160216e-10  2.22181571e-10\n",
      " -1.88117333e-09  8.17230521e-10  3.91609005e-09  2.45379561e-09\n",
      "  2.44082017e+01 -6.32018833e-10  3.89709986e-08  2.57177933e-09\n",
      "  3.51738114e-09  4.80231777e-07]\n"
     ]
    }
   ],
   "source": [
    "print(alpha)"
   ]
  },
  {
   "cell_type": "code",
   "execution_count": 104,
   "metadata": {
    "scrolled": true
   },
   "outputs": [],
   "source": [
    "w = np.matmul((alpha * Y_train).T, X_train)"
   ]
  },
  {
   "cell_type": "code",
   "execution_count": 105,
   "metadata": {
    "scrolled": false
   },
   "outputs": [
    {
     "data": {
      "text/plain": [
       "array([-6.31578945,  5.26315787])"
      ]
     },
     "execution_count": 105,
     "metadata": {},
     "output_type": "execute_result"
    }
   ],
   "source": [
    "w"
   ]
  },
  {
   "cell_type": "code",
   "execution_count": 106,
   "metadata": {},
   "outputs": [],
   "source": [
    "# our support vectors\n",
    "i = 0\n",
    "sv_indexes = []\n",
    "while i != len(alpha):\n",
    "    if alpha[i] >= 1e-7:\n",
    "        sv_indexes.append(i)\n",
    "    i += 1"
   ]
  },
  {
   "cell_type": "code",
   "execution_count": 107,
   "metadata": {},
   "outputs": [],
   "source": [
    "b = Y_train[sv_indexes[0]] - np.matmul(w.T, X_train[sv_indexes[0]])"
   ]
  },
  {
   "cell_type": "code",
   "execution_count": 108,
   "metadata": {
    "scrolled": true
   },
   "outputs": [
    {
     "data": {
      "text/plain": [
       "17.31578942920447"
      ]
     },
     "execution_count": 108,
     "metadata": {},
     "output_type": "execute_result"
    }
   ],
   "source": [
    "b"
   ]
  },
  {
   "cell_type": "code",
   "execution_count": 109,
   "metadata": {},
   "outputs": [],
   "source": [
    "def plot_dual_svm_graph(W, X, Y, b, alpha):\n",
    "    i = 0\n",
    "    while i != len(X):\n",
    "        if Y[i] > 0:\n",
    "            plt.scatter(X[i, 0], X[i,1], color = 'b')\n",
    "        else:\n",
    "            plt.scatter(X[i, 0], X[i,1], color = 'r')\n",
    "        i += 1\n",
    "    x_plot = np.arange(4.5, 6.5, 0.25)\n",
    "    y_predict = -(b + x_plot*W[0])/W[1]\n",
    "    distance = 1/np.linalg.norm(W)\n",
    "    upper_margin = y_predict + distance\n",
    "    lower_margin = y_predict - distance\n",
    "    \n",
    "    plt.plot(x_plot, y_predict)\n",
    "    plt.plot(x_plot, upper_margin)\n",
    "    plt.plot(x_plot, lower_margin)\n",
    "    i = 0\n",
    "    while i != len(X):\n",
    "        if alpha[i] >= 1e-7:\n",
    "            plt.scatter(X[i, 0], X[i,1], color = 'y', label = 'support-vectors')\n",
    "        i += 1\n",
    "    plt.legend(('predicted', 'upper_margin', 'lower_margin'))\n",
    "    plt.show()\n"
   ]
  },
  {
   "cell_type": "code",
   "execution_count": 110,
   "metadata": {
    "scrolled": true
   },
   "outputs": [
    {
     "data": {
      "image/png": "[encoded data removed]",
      "text/plain": [
       "<Figure size 432x288 with 1 Axes>"
      ]
     },
     "metadata": {
      "needs_background": "light"
     },
     "output_type": "display_data"
    }
   ],
   "source": [
    "plot_dual_svm_graph(w, X_train, Y_train, b, alpha)"
   ]
  }
 ],
 "metadata": {
  "kernelspec": {
   "display_name": "Python 3",
   "language": "python",
   "name": "python3"
  },
  "language_info": {
   "codemirror_mode": {
    "name": "ipython",
    "version": 3
   },
   "file_extension": ".py",
   "mimetype": "text/x-python",
   "name": "python",
   "nbconvert_exporter": "python",
   "pygments_lexer": "ipython3",
   "version": "3.7.4"
  }
 },
 "nbformat": 4,
 "nbformat_minor": 2
}
